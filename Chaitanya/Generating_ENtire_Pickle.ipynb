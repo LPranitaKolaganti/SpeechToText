{
  "nbformat": 4,
  "nbformat_minor": 0,
  "metadata": {
    "colab": {
      "name": "Generating ENtire Pickle.ipynb",
      "provenance": []
    },
    "kernelspec": {
      "name": "python3",
      "display_name": "Python 3"
    }
  },
  "cells": [
    {
      "cell_type": "markdown",
      "metadata": {
        "id": "DC4mYoac2eZ1",
        "colab_type": "text"
      },
      "source": [
        "Generating LABEL.Pkl files"
      ]
    },
    {
      "cell_type": "code",
      "metadata": {
        "id": "NPJDshMs2Y5X",
        "colab_type": "code",
        "colab": {}
      },
      "source": [
        "import pickle\n",
        "import os\n",
        "\n",
        "path= 'C:/Users/patil/Downloads/LibriSpeech-PickleData/LibriSpeech-PickleData/dev_all/dev_all/'\n",
        "file_list = os.listdir(path)\n",
        "FINAL_pkl_data = {}\n",
        "for file in file_list:\n",
        "            if file.endswith(\".txt\"):\n",
        "                    f = open(path+file, \"r\")\n",
        "                    x=f.readline()\n",
        "                    #print(x)\n",
        "                    for i in range(len(x)):\n",
        "                            if x[i].isalpha() == True:\n",
        "                                    FINAL_pkl_data[x[:i].strip()] = (x[i:].strip())\n",
        "\n",
        "\n",
        "                                    break\n",
        "\n",
        "with open('C:/Users/patil/Downloads/DEV_LABEL.pkl', 'wb') as pickle_file:\n",
        "    pickle.dump(FINAL_pkl_data, pickle_file)\n",
        "\n"
      ],
      "execution_count": 0,
      "outputs": []
    },
    {
      "cell_type": "markdown",
      "metadata": {
        "id": "q5-yOBer3TMf",
        "colab_type": "text"
      },
      "source": [
        "Generating DATA (MFCC) Pkl"
      ]
    },
    {
      "cell_type": "code",
      "metadata": {
        "id": "dDuUMf473W-X",
        "colab_type": "code",
        "colab": {}
      },
      "source": [
        "FINAL_pkl_data = {}\n",
        "for file in file_list:\n",
        "            if file.endswith(\".pkl\"):\n",
        "                    f = open(path+file, \"rb\")\n",
        "                    TRAIN_DATA = pickle.load(f)\n",
        "\n",
        "                    for k in TRAIN_DATA.keys():\n",
        "                            FINAL_pkl_data[k] = TRAIN_DATA[k]\n",
        "with open('C:/Users/patil/Downloads/TEST_DATA.pkl', 'wb') as pickle_file:\n",
        "    pickle.dump(FINAL_pkl_data, pickle_file)\n"
      ],
      "execution_count": 0,
      "outputs": []
    }
  ]
}