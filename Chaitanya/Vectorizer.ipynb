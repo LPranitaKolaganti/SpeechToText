{
  "nbformat": 4,
  "nbformat_minor": 0,
  "metadata": {
    "colab": {
      "name": "Vectorizer.ipynb",
      "provenance": [],
      "collapsed_sections": []
    },
    "kernelspec": {
      "name": "python3",
      "display_name": "Python 3"
    }
  },
  "cells": [
    {
      "cell_type": "code",
      "metadata": {
        "id": "xFw8ZgY12a9S",
        "colab_type": "code",
        "colab": {}
      },
      "source": [
        "import numpy as np"
      ],
      "execution_count": 0,
      "outputs": []
    },
    {
      "cell_type": "code",
      "metadata": {
        "id": "HprXWuSZ1Qop",
        "colab_type": "code",
        "colab": {}
      },
      "source": [
        "from keras.preprocessing.text import Tokenizer\n",
        "tokenizer = Tokenizer(char_level=True)\n",
        "tokenizer.fit_on_texts(\"abcdefghijklmnopqrstuvwxyz .\")\n",
        "sequence_of_int = tokenizer.texts_to_sequences(\"Hi\")\n",
        "sequence_of_int = np.array(sequence_of_int).flatten()"
      ],
      "execution_count": 0,
      "outputs": []
    },
    {
      "cell_type": "code",
      "metadata": {
        "id": "Ea_GffWp2Exk",
        "colab_type": "code",
        "colab": {}
      },
      "source": [
        "Vectors_Character=[]\n",
        "for i in range(len(sequence_of_int)):\n",
        "    Vector = [0]*28\n",
        "    Vector[sequence_of_int[i]]=1\n",
        "    Vectors_Character.append(Vector)    \n",
        "\n"
      ],
      "execution_count": 0,
      "outputs": []
    }
  ]
}