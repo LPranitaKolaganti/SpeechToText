{
 "cells": [
  {
   "cell_type": "code",
   "execution_count": 33,
   "metadata": {},
   "outputs": [],
   "source": [
    "import os\n",
    "import pickle\n",
    "import numpy as np\n",
    "\n",
    "import tensorflow as tf\n",
    "import tensorflow.keras.layers as layers\n",
    "from tensorflow.keras.utils import Sequence\n",
    "\n",
    "import Levenshtein as Lev\n",
    "import sys"
   ]
  },
  {
   "cell_type": "code",
   "execution_count": 3,
   "metadata": {},
   "outputs": [
    {
     "name": "stdout",
     "output_type": "stream",
     "text": [
      "2.0.0\n"
     ]
    }
   ],
   "source": [
    "print(tf.__version__)"
   ]
  },
  {
   "cell_type": "code",
   "execution_count": 4,
   "metadata": {},
   "outputs": [],
   "source": [
    "def wer(s1, s2):\n",
    "\n",
    "    s1 =s1.lower()\n",
    "    s2 =s2.lower()\n",
    "    b = set(s1.lower().split() + s2.lower().split())\n",
    "    \n",
    "    word2char = dict(zip(b, range(len(b))))\n",
    "\n",
    "\n",
    "    w1 = [chr(word2char[w]) for w in s1.split()]\n",
    "    w2 = [chr(word2char[w]) for w in s2.split()]\n",
    "    return Lev.distance(''.join(w1), ''.join(w2))/float(len(s2.split()))"
   ]
  },
  {
   "cell_type": "markdown",
   "metadata": {},
   "source": [
    "To Decide\n",
    "1. Batch Norm vs Layer Norm or No Norm for attention model\n",
    "2. Autoencoder (CNN vs Vanilla vs None)\n",
    "3. Shuffle or No"
   ]
  },
  {
   "cell_type": "code",
   "execution_count": 5,
   "metadata": {},
   "outputs": [],
   "source": [
    "def autoencoder():\n",
    "    model = tf.keras.Sequential()\n",
    "    model.add(layers.Dense(350))\n",
    "    model.add(layers.Dropout(rate = 0.2))\n",
    "    model.add(layers.Dense(200))\n",
    "    model.add(layers.Dropout(rate = 0.2))\n",
    "    model.add(layers.Dense(100))\n",
    "    model.add(layers.Dropout(rate = 0.2))\n",
    "    model.add(layers.Dense(200))\n",
    "    model.add(layers.Dropout(rate = 0.2))\n",
    "    model.add(layers.Dense(350))\n",
    "    model.add(layers.Dropout(rate = 0.2))\n",
    "    model.add(layers.Dense(513))    \n",
    "    return model"
   ]
  },
  {
   "cell_type": "code",
   "execution_count": 6,
   "metadata": {},
   "outputs": [],
   "source": [
    "model = autoencoder()"
   ]
  },
  {
   "cell_type": "code",
   "execution_count": 13,
   "metadata": {},
   "outputs": [],
   "source": [
    "train_path = \"./LibriSpeech100/train/train_all/\"\n",
    "dev_path = \"./LibriSpeech100/dev/dev_all/\"\n",
    "test_path = \"./LibriSpeech100/test/test_all/\""
   ]
  },
  {
   "cell_type": "code",
   "execution_count": 21,
   "metadata": {},
   "outputs": [],
   "source": [
    "class DataGenerator(Sequence):\n",
    "    def __init__(self, path, to_fit = True):\n",
    "        self.path = path\n",
    "        self.list_X, self.list_Y = self.getLists()\n",
    "        self.to_fit = to_fit\n",
    "    \n",
    "    def __len__(self):\n",
    "        return len(self.list_X)\n",
    "    \n",
    "    def __getitem__(self, index):      \n",
    "        dict_X = self.get_dict_X(index)   \n",
    "        \n",
    "        if self.to_fit:\n",
    "            dict_Y = self.get_dict_Y(index)\n",
    "            X, Y = self.generate_XY(dict_X, dict_Y)\n",
    "            return X, Y\n",
    "        \n",
    "        X = self.generate_X(dict_X)\n",
    "        return X\n",
    "    \n",
    "    def getLists(self):\n",
    "        list_X = []\n",
    "        list_Y = []\n",
    "        for item in sorted(os.listdir(self.path)):\n",
    "            ext = item.split(\".\")[-1]\n",
    "            if ext == 'pkl':\n",
    "                list_X.append(item)\n",
    "            elif ext == 'txt':\n",
    "                list_Y.append(item)\n",
    "        return list_X, list_Y\n",
    "    \n",
    "    def get_dict_X(self, index):\n",
    "        file_name = self.path + self.list_X[index]\n",
    "        with open(file_name, 'rb') as pickle_file:\n",
    "            dict_X = pickle.load(pickle_file)\n",
    "        return dict_X\n",
    "    \n",
    "    def get_dict_Y(self, index):\n",
    "        file = open(train_path+filename)\n",
    "        dict_Y = {}\n",
    "        for line in file:\n",
    "            data = line.split()\n",
    "            key = data[0]\n",
    "            value = ' '.join(data[1:])\n",
    "            dict_Y[key] = value\n",
    "        return dict_Y\n",
    "    \n",
    "    def generate_XY(dict_X, dict_Y):\n",
    "        X = []\n",
    "        Y = []\n",
    "        for key in dict_X:\n",
    "            X.append(dict_X[key])\n",
    "            Y.append(dict_Y[key])\n",
    "        return X, Y\n",
    "    \n",
    "    def generate_X(dict_X):\n",
    "        X = [value for key, value in dict_X.items()]\n",
    "        return X"
   ]
  },
  {
   "cell_type": "code",
   "execution_count": 34,
   "metadata": {},
   "outputs": [],
   "source": [
    "list_X = []\n",
    "list_Y = []\n",
    "for item in sorted(os.listdir(train_path)):\n",
    "    ext = item.split(\".\")[-1]\n",
    "    if ext == 'pkl':\n",
    "        list_X.append(item)\n",
    "    elif ext == 'txt':\n",
    "        list_Y.append(item)"
   ]
  },
  {
   "cell_type": "code",
   "execution_count": 35,
   "metadata": {},
   "outputs": [],
   "source": [
    "for filename in list_Y:\n",
    "    file = open(train_path+filename)\n",
    "    dict_Y = {}\n",
    "    for line in file:\n",
    "        data = line.split()\n",
    "        key = data[0]\n",
    "        value = ' '.join(data[1:])\n",
    "        dict_Y[key] = value"
   ]
  },
  {
   "cell_type": "code",
   "execution_count": 39,
   "metadata": {},
   "outputs": [],
   "source": [
    "Y = [value for key, value in dict_Y.items()]"
   ]
  },
  {
   "cell_type": "code",
   "execution_count": 40,
   "metadata": {},
   "outputs": [
    {
     "data": {
      "text/plain": [
       "['AND FOR THIS THE VILLAGE BOYS WITH WHOM HE PLAYED USED TO QUARREL WITH HIM SAYING FATHERLESS ORPHAN WHY DO YOU CHEAT SO ONE DAY HE ASKED HIS MOTHER WHY THEY CALLED HIM THAT NAME AND WHETHER HIS FATHER WAS REALLY DEAD',\n",
       " 'HE IS ALIVE SAID SHE BUT A LONG TIME AGO A RHINOCEROS CARRIED HIM OFF ON ITS HORN THEN THE BOY VOWED THAT HE WOULD GO IN SEARCH OF HIS FATHER AND MADE HIS MOTHER PUT HIM UP PROVISIONS FOR THE JOURNEY',\n",
       " 'AND HE STARTED OFF TAKING WITH HIM AN IRON BOW AND A BIG BUNDLE OF ARROWS HE JOURNEYED ON ALL DAY AND AT NIGHTFALL HE CAME TO A VILLAGE THERE HE WENT UP TO THE HOUSE OF AN OLD WOMAN TO ASK FOR A BED',\n",
       " 'GRANNIE GRANNIE OPEN THE DOOR I HAVE NO SON AND NO GRANDCHILDREN TO CALL ME GRANNIE GRUMBLED THE OLD WOMAN AND WENT TO OPEN THE DOOR TO SEE WHO WAS THERE AND WHEN SHE OPENED THE DOOR AND SAW HIM SHE SAID HO',\n",
       " 'YOU ARE MY GRANDSON YES ANSWERED HE I AM YOUR GRANDCHILD SO SHE CALLED HIM INSIDE AND GAVE HIM A BED TO SLEEP ON THE OLD WOMAN WAS CALLED HUTIBUDI',\n",
       " 'AND SHE AND THE BOY SAT UP LATE TALKING TOGETHER AND THEN THEY LAY DOWN TO SLEEP BUT IN THE MIDDLE OF THE NIGHT HE HEARD THE OLD WOMAN CRUNCHING AWAY TRYING TO BITE HIS BOW TO PIECES',\n",
       " 'HE ASKED HER WHAT SHE WAS EATING SOME PULSE I GOT FROM THE VILLAGE HEADMAN GIVE ME A LITTLE TO TRY HE BEGGED I AM SORRY MY CHILD I HAVE FINISHED IT ALL',\n",
       " 'BUT REALLY SHE HAD NONE TO GIVE HOWEVER SHE ONLY HURT HER JAWS BITING SO THAT SHE BEGAN TO GROAN WITH PAIN WHAT ARE YOU GROANING FOR GRANNIE SAID THE BOY',\n",
       " 'AND IN TRUTH HER CHEEKS WERE BADLY SWOLLEN THEN HE TOLD HER THAT A GOOD CURE FOR TOOTHACHE WAS TO BITE ON A WHITE STONE AND SHE BELIEVED HIM AND THE NEXT MORNING GOT A PIECE OF WHITE QUARTZ AND BEGAN TO BITE ON IT',\n",
       " 'BUT THIS ONLY BROKE HER TEETH AND MADE HER MOUTH BLEED SO THAT THE PAIN WAS WORSE THAN BEFORE THEN THE BOY JEERED AT HER AND SAID DID YOU THINK GRANNIE THAT YOU COULD BITE MY IRON BOW AND ARROWS SO SAYING HE LEFT HER',\n",
       " 'AND CONTINUED THE SEARCH FOR HIS FATHER',\n",
       " 'HE CAME TO A LAKE AND HE SAT DOWN BY IT TO EAT WHAT WAS LEFT OF THE PROVISIONS HE HAD BROUGHT AS HE SAT HE SUDDENLY SAW SOME COW BISON COMING DOWN TO THE LAKE AT THIS HE CAUGHT UP HIS BOW AND ARROWS IN A HURRY',\n",
       " 'AND CLIMBED UP A TALL SAL TREE FROM THE TREE HE WATCHED THE BISON GO DOWN TO THE WATER TO DRINK AND THEN GO BACK INTO THE JUNGLE AND AFTER THEM TIGERS AND BEARS CAME DOWN TO THE WATER',\n",
       " 'THE SIGHT OF THEM FRIGHTENED HIM AND HE SANG DRINK YOUR FILL TIGER I SHALL NOT SHOOT YOU',\n",
       " 'AND THEY DRANK AND WENT AWAY THEN VARIOUS KINDS OF BIRDS CAME',\n",
       " \"AND AMONG THEM WAS ONE WHICH HAD THE DRIED UP BODY OF THE BOY'S FATHER STUCK ON ITS HORN THE BOY WAS RATHER FRIGHTENED AND SANG\",\n",
       " 'HE PUT AN ARROW THROUGH IT AND IT TURNED A SOMERSAULT AND FELL OVER DEAD',\n",
       " 'AND RAN AWAY THEN THE BOY CLIMBED DOWN FROM THE TREE AND PULLED THE DEAD BODY OF HIS FATHER OFF THE HORN OF THE DEAD ANIMAL AND LAID IT DOWN AT THE FOOT OF A TREE AND BEGAN TO WEEP OVER IT AS HE WEPT',\n",
       " \"A MAN SUDDENLY STOOD BEFORE HIM AND ASKED WHAT WAS THE MATTER AND WHEN HE HEARD SAID CRY NO MORE TAKE A CLOTH AND WET IT IN THE LAKE AND COVER YOUR FATHER'S BODY WITH IT\",\n",
       " 'AND THEN WHIP THE BODY WITH A MERAL TWIG AND HE WILL COME TO LIFE SO SAYING THE STRANGER SUDDENLY DISAPPEARED AND THE BOY OBEYED HIS INSTRUCTIONS AND BEHOLD HIS FATHER SAT UP ALIVE AND RUBBING HIS EYES SAID',\n",
       " 'I MUST HAVE BEEN ASLEEP A VERY LONG TIME THEN HIS SON EXPLAINED TO HIM ALL THAT HAD HAPPENED AND GAVE HIM SOME FOOD']"
      ]
     },
     "execution_count": 40,
     "metadata": {},
     "output_type": "execute_result"
    }
   ],
   "source": [
    "Y\n"
   ]
  },
  {
   "cell_type": "code",
   "execution_count": null,
   "metadata": {},
   "outputs": [],
   "source": []
  }
 ],
 "metadata": {
  "kernelspec": {
   "display_name": "Python 3",
   "language": "python",
   "name": "python3"
  },
  "language_info": {
   "codemirror_mode": {
    "name": "ipython",
    "version": 3
   },
   "file_extension": ".py",
   "mimetype": "text/x-python",
   "name": "python",
   "nbconvert_exporter": "python",
   "pygments_lexer": "ipython3",
   "version": "3.7.5"
  }
 },
 "nbformat": 4,
 "nbformat_minor": 2
}
