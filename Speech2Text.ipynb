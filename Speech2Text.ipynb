{
 "cells": [
  {
   "cell_type": "markdown",
   "metadata": {},
   "source": [
    "### Imports"
   ]
  },
  {
   "cell_type": "code",
   "execution_count": 1,
   "metadata": {},
   "outputs": [],
   "source": [
    "import tensorflow as tf\n",
    "\n",
    "from data_generator import DataGenerator\n",
    "from train_test_utils import model_evaluate, model_fit\n",
    "from model import ASRModel"
   ]
  },
  {
   "cell_type": "code",
   "execution_count": 2,
   "metadata": {},
   "outputs": [
    {
     "name": "stdout",
     "output_type": "stream",
     "text": [
      "2.0.0\n"
     ]
    }
   ],
   "source": [
    "print(tf.__version__)"
   ]
  },
  {
   "cell_type": "code",
   "execution_count": 3,
   "metadata": {
    "scrolled": true
   },
   "outputs": [
    {
     "data": {
      "text/plain": [
       "True"
      ]
     },
     "execution_count": 3,
     "metadata": {},
     "output_type": "execute_result"
    }
   ],
   "source": [
    "tf.test.is_gpu_available()"
   ]
  },
  {
   "cell_type": "markdown",
   "metadata": {},
   "source": [
    "### Paths"
   ]
  },
  {
   "cell_type": "code",
   "execution_count": 4,
   "metadata": {},
   "outputs": [],
   "source": [
    "train_path = \"./LibriSpeech100/train/train_all/\"\n",
    "dev_path = \"./LibriSpeech100/dev/dev_all/\"\n",
    "test_path = \"./LibriSpeech100/test/test_all/\""
   ]
  },
  {
   "cell_type": "markdown",
   "metadata": {},
   "source": [
    "### Create DataGenerator objects"
   ]
  },
  {
   "cell_type": "code",
   "execution_count": 5,
   "metadata": {},
   "outputs": [],
   "source": [
    "train_data = DataGenerator(train_path)\n",
    "val_data = DataGenerator(dev_path)\n",
    "test_data = DataGenerator(test_path)"
   ]
  },
  {
   "cell_type": "markdown",
   "metadata": {},
   "source": [
    "### Build Model"
   ]
  },
  {
   "cell_type": "code",
   "execution_count": 6,
   "metadata": {},
   "outputs": [],
   "source": [
    "model = ASRModel()\n",
    "# model.build(input_shape = (None, None, 20))\n",
    "optimizer = tf.keras.optimizers.Adam()"
   ]
  },
  {
   "cell_type": "code",
   "execution_count": 7,
   "metadata": {},
   "outputs": [],
   "source": [
    "# model.summary()"
   ]
  },
  {
   "cell_type": "markdown",
   "metadata": {},
   "source": [
    "### Checkpoint"
   ]
  },
  {
   "cell_type": "code",
   "execution_count": 8,
   "metadata": {},
   "outputs": [],
   "source": [
    "ckpt_dir = './training_checkpoints'\n",
    "ckpt = tf.train.Checkpoint(epoch=tf.Variable(1), optimizer=optimizer, model = model)\n",
    "manager = tf.train.CheckpointManager(ckpt, ckpt_dir, max_to_keep = 2)    "
   ]
  },
  {
   "cell_type": "code",
   "execution_count": null,
   "metadata": {
    "scrolled": false
   },
   "outputs": [
    {
     "name": "stdout",
     "output_type": "stream",
     "text": [
      "Restored from ./training_checkpoints/ckpt-6\n",
      "WARNING:tensorflow:From /home/rushabh/miniconda3/envs/tf/lib/python3.7/site-packages/tensorflow_core/python/keras/backend.py:5783: sparse_to_dense (from tensorflow.python.ops.sparse_ops) is deprecated and will be removed in a future version.\n",
      "Instructions for updating:\n",
      "Create a `tf.sparse.SparseTensor` and use `tf.sparse.to_dense` instead.\n",
      "78\n",
      "156\n",
      "234\n",
      "312\n",
      "390\n",
      "468\n",
      "546\n",
      "Saved checkpoint for epoch 2: ./training_checkpoints/ckpt-7\n",
      "Epoch:  1  Loss: 445.359131  WER:  0.9980864265445464\n",
      " Validation Loss: 274.282471  Validation WER:  1.0007675428309375\n",
      "78\n",
      "156\n",
      "234\n",
      "312\n",
      "390\n",
      "468\n",
      "546\n",
      "Saved checkpoint for epoch 3: ./training_checkpoints/ckpt-8\n",
      "Epoch:  2  Loss: 442.335205  WER:  0.9970029816180195\n",
      " Validation Loss: 272.835144  Validation WER:  1.0002174000470372\n",
      "78\n",
      "156\n",
      "234\n",
      "312\n",
      "390\n",
      "468\n",
      "546\n",
      "Saved checkpoint for epoch 4: ./training_checkpoints/ckpt-10\n",
      "Epoch:  3  Loss: 439.565857  WER:  0.9953573457550832\n",
      " Validation Loss: 271.527588  Validation WER:  0.9993287873694947\n",
      "78\n",
      "156\n",
      "234\n",
      "312\n",
      "390\n",
      "468\n",
      "546\n",
      "Saved checkpoint for epoch 5: ./training_checkpoints/ckpt-11\n",
      "Epoch:  4  Loss: 437.015442  WER:  0.9932211302349923\n",
      " Validation Loss: 270.300262  Validation WER:  0.9979572547810334\n",
      "78\n",
      "156\n",
      "234\n",
      "312\n",
      "390\n",
      "468\n",
      "546\n",
      "Saved checkpoint for epoch 6: ./training_checkpoints/ckpt-13\n",
      "Epoch:  5  Loss: 434.689117  WER:  0.9908801481877967\n",
      " Validation Loss: 269.088226  Validation WER:  0.9970937195472336\n",
      "78\n",
      "156\n",
      "234\n",
      "312\n",
      "390\n",
      "468\n",
      "546\n",
      "Saved checkpoint for epoch 7: ./training_checkpoints/ckpt-14\n",
      "Epoch:  6  Loss: 432.542572  WER:  0.9890462089815066\n",
      " Validation Loss: 267.996979  Validation WER:  0.9969916648495541\n",
      "78\n",
      "156\n",
      "234\n",
      "312\n",
      "390\n",
      "468\n",
      "546\n",
      "Saved checkpoint for epoch 8: ./training_checkpoints/ckpt-16\n",
      "Epoch:  7  Loss: 430.54776  WER:  0.9879296292352386\n",
      " Validation Loss: 266.922546  Validation WER:  0.9970780161931343\n",
      "78\n",
      "156\n",
      "234\n",
      "312\n",
      "390\n",
      "468\n",
      "546\n",
      "Saved checkpoint for epoch 9: ./training_checkpoints/ckpt-17\n",
      "Epoch:  8  Loss: 428.688141  WER:  0.9872621737814407\n",
      " Validation Loss: 265.910614  Validation WER:  0.9969695333020909\n",
      "78\n",
      "156\n",
      "234\n",
      "312\n",
      "390\n",
      "468\n",
      "546\n",
      "Saved checkpoint for epoch 10: ./training_checkpoints/ckpt-19\n",
      "Epoch:  9  Loss: 426.95517  WER:  0.9881351277575905\n",
      " Validation Loss: 264.954224  Validation WER:  0.9974409300437932\n",
      "78\n",
      "156\n"
     ]
    }
   ],
   "source": [
    "losses, accuracies, val_losses, val_acc = model_fit(model, optimizer, train_data, manager, ckpt, val_ds = val_data, epochs = 20)"
   ]
  },
  {
   "cell_type": "markdown",
   "metadata": {},
   "source": [
    "### Restore Checkpoint and Test Model"
   ]
  },
  {
   "cell_type": "code",
   "execution_count": null,
   "metadata": {},
   "outputs": [],
   "source": [
    "save_file = open('outputs/predictions.txt', 'w')"
   ]
  },
  {
   "cell_type": "code",
   "execution_count": null,
   "metadata": {
    "scrolled": false
   },
   "outputs": [],
   "source": [
    "ckpt.restore(manager.latest_checkpoint)\n",
    "\n",
    "_, acc = model_evaluate(model, test_data, test=True, save_file = save_file)"
   ]
  },
  {
   "cell_type": "code",
   "execution_count": null,
   "metadata": {},
   "outputs": [],
   "source": [
    "print(acc)"
   ]
  }
 ],
 "metadata": {
  "kernelspec": {
   "display_name": "Python 3",
   "language": "python",
   "name": "python3"
  },
  "language_info": {
   "codemirror_mode": {
    "name": "ipython",
    "version": 3
   },
   "file_extension": ".py",
   "mimetype": "text/x-python",
   "name": "python",
   "nbconvert_exporter": "python",
   "pygments_lexer": "ipython3",
   "version": "3.7.5"
  }
 },
 "nbformat": 4,
 "nbformat_minor": 2
}
