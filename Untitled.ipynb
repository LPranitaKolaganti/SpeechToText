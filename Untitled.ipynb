{
 "cells": [
  {
   "cell_type": "code",
   "execution_count": 1,
   "metadata": {},
   "outputs": [],
   "source": [
    "import tensorflow as tf\n",
    "\n",
    "from data_generator import DataGenerator"
   ]
  },
  {
   "cell_type": "code",
   "execution_count": 3,
   "metadata": {},
   "outputs": [],
   "source": [
    "train_path = \"./LibriSpeech100/train/train_all/\"\n",
    "dev_path = \"./LibriSpeech100/dev/dev_all/\"\n",
    "test_path = \"./LibriSpeech100/test/test_all/\""
   ]
  },
  {
   "cell_type": "code",
   "execution_count": 4,
   "metadata": {},
   "outputs": [],
   "source": [
    "train_data = DataGenerator(train_path)\n",
    "val_data = DataGenerator(dev_path)\n",
    "test_data = DataGenerator(test_path)"
   ]
  },
  {
   "cell_type": "code",
   "execution_count": 7,
   "metadata": {},
   "outputs": [],
   "source": [
    "x, y = train_data[0]"
   ]
  },
  {
   "cell_type": "code",
   "execution_count": 8,
   "metadata": {},
   "outputs": [],
   "source": [
    "x, y_s, i_l, l_l = x"
   ]
  },
  {
   "cell_type": "code",
   "execution_count": 29,
   "metadata": {},
   "outputs": [
    {
     "name": "stdout",
     "output_type": "stream",
     "text": [
      "268 268\n",
      "263 263\n",
      "126 126\n",
      "250 250\n",
      "85 85\n",
      "262 262\n",
      "258 258\n",
      "271 271\n",
      "258 258\n",
      "160 160\n",
      "246 246\n",
      "313 313\n",
      "260 260\n",
      "262 262\n",
      "243 243\n",
      "271 271\n",
      "229 229\n",
      "237 237\n",
      "290 290\n",
      "284 284\n",
      "278 278\n",
      "295 295\n",
      "268 268\n",
      "226 226\n",
      "288 288\n",
      "233 233\n",
      "196 196\n",
      "266 266\n",
      "282 282\n",
      "281 281\n",
      "107 107\n",
      "292 292\n",
      "271 271\n",
      "254 254\n",
      "241 241\n",
      "274 274\n",
      "226 226\n",
      "318 318\n",
      "260 260\n",
      "242 242\n",
      "283 283\n",
      "264 264\n",
      "201 201\n",
      "297 297\n",
      "251 251\n",
      "309 309\n",
      "181 181\n",
      "268 268\n",
      "293 293\n",
      "263 263\n",
      "227 227\n",
      "293 293\n",
      "238 238\n",
      "246 246\n",
      "246 246\n",
      "155 155\n",
      "236 236\n",
      "238 238\n"
     ]
    }
   ],
   "source": [
    "for i in range (len(y_s)):\n",
    "    print(len(y_s[i]), l_l[i])"
   ]
  },
  {
   "cell_type": "code",
   "execution_count": 13,
   "metadata": {},
   "outputs": [],
   "source": [
    "import pickle"
   ]
  },
  {
   "cell_type": "code",
   "execution_count": 24,
   "metadata": {},
   "outputs": [],
   "source": [
    "file_name = train_path + '/307-127535.trans.txt'\n",
    "file = open(file_name)\n",
    "dict_Y = {}\n",
    "for line in file:\n",
    "    data = line.split()\n",
    "    key = data[0]\n",
    "    value = ' '.join(data[1:])\n",
    "    dict_Y[key] = value"
   ]
  },
  {
   "cell_type": "code",
   "execution_count": 25,
   "metadata": {},
   "outputs": [
    {
     "name": "stdout",
     "output_type": "stream",
     "text": [
      "224\n",
      "218\n",
      "229\n",
      "161\n",
      "204\n",
      "224\n",
      "214\n",
      "126\n",
      "139\n",
      "113\n",
      "123\n",
      "106\n",
      "182\n",
      "170\n",
      "72\n",
      "51\n",
      "149\n",
      "45\n",
      "227\n",
      "66\n",
      "196\n",
      "160\n",
      "182\n",
      "110\n",
      "180\n",
      "120\n",
      "160\n",
      "124\n",
      "43\n",
      "203\n",
      "155\n",
      "269\n",
      "142\n",
      "153\n",
      "125\n",
      "66\n",
      "145\n",
      "202\n",
      "60\n",
      "158\n",
      "194\n",
      "181\n",
      "195\n",
      "128\n",
      "232\n",
      "48\n"
     ]
    }
   ],
   "source": [
    "for key in dict_Y:\n",
    "    print(len(dict_Y[key]))"
   ]
  },
  {
   "cell_type": "code",
   "execution_count": null,
   "metadata": {},
   "outputs": [],
   "source": []
  }
 ],
 "metadata": {
  "kernelspec": {
   "display_name": "Python 3",
   "language": "python",
   "name": "python3"
  },
  "language_info": {
   "codemirror_mode": {
    "name": "ipython",
    "version": 3
   },
   "file_extension": ".py",
   "mimetype": "text/x-python",
   "name": "python",
   "nbconvert_exporter": "python",
   "pygments_lexer": "ipython3",
   "version": "3.7.5"
  }
 },
 "nbformat": 4,
 "nbformat_minor": 2
}
